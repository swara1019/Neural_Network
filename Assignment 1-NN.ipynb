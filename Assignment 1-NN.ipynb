{
 "cells": [
  {
   "cell_type": "code",
   "execution_count": 3,
   "id": "d41f350d",
   "metadata": {},
   "outputs": [],
   "source": [
    "import numpy as np"
   ]
  },
  {
   "cell_type": "code",
   "execution_count": 29,
   "id": "f1e0e79a",
   "metadata": {},
   "outputs": [
    {
     "name": "stdout",
     "output_type": "stream",
     "text": [
      "Final weights: [1.42372856 0.77634804]\n",
      "Final bias: [-1.31459107]\n"
     ]
    }
   ],
   "source": [
    "weights = np.random.randn(2) \n",
    "bias = np.random.randn()      \n",
    "\n",
    "learning_rate = 0.1\n",
    "epochs = 100\n",
    "\n",
    "x = np.array([[0.1, 0.1], [0.6, 0.6], [0.7, 0.4], [0.9, 0.8], [0.3, 0.7]])\n",
    "y = np.array([[0], [1], [0], [1], [0]]) \n",
    "\n",
    "def step_function(x):\n",
    "    \"\"\"Perceptron step function for binary classification (0 or 1)\"\"\"\n",
    "    return 1 if x >= 0 else 0\n",
    "\n",
    "for epoch in range(epochs):\n",
    "    for i in range(len(x)):\n",
    "        sum_of_weight = np.dot(weights, x[i]) + bias\n",
    "        \n",
    "        prediction = step_function(sum_of_weight)\n",
    "\n",
    "        error = y[i] - prediction\n",
    "\n",
    "        weights += learning_rate * error * x[i]\n",
    "        bias += learning_rate * error\n",
    "\n",
    "print(\"Final weights:\", weights)\n",
    "print(\"Final bias:\",bias)"
   ]
  },
  {
   "cell_type": "code",
   "execution_count": 31,
   "id": "5e9157f0",
   "metadata": {},
   "outputs": [
    {
     "name": "stdout",
     "output_type": "stream",
     "text": [
      "Final weights: [0.44230531 0.90727271]\n",
      "Final bias: [-0.79083371]\n"
     ]
    }
   ],
   "source": [
    "weights = np.random.randn(2) \n",
    "bias = np.random.randn()      \n",
    "\n",
    "learning_rate = 0.5\n",
    "epochs = 200\n",
    "\n",
    "x = np.array([[0.1, 0.1], [0.6, 0.6], [0.7, 0.4], [0.9, 0.8], [0.3, 0.7]])\n",
    "y = np.array([[0], [1], [0], [1], [0]]) \n",
    "\n",
    "def step_function(x):\n",
    "    \"\"\"Perceptron step function for binary classification (0 or 1)\"\"\"\n",
    "    return 1 if x >= 0 else 0\n",
    "\n",
    "for epoch in range(epochs):\n",
    "    for i in range(len(x)):\n",
    "        sum_of_weight = np.dot(weights, x[i]) + bias\n",
    "        \n",
    "        prediction = step_function(sum_of_weight)\n",
    "\n",
    "        error = y[i] - prediction\n",
    "\n",
    "        weights += learning_rate * error * x[i]\n",
    "        bias += learning_rate * error\n",
    "\n",
    "print(\"Final weights:\", weights)\n",
    "print(\"Final bias:\",bias)"
   ]
  },
  {
   "cell_type": "code",
   "execution_count": null,
   "id": "38b2df7d",
   "metadata": {},
   "outputs": [],
   "source": []
  }
 ],
 "metadata": {
  "kernelspec": {
   "display_name": "Python 3 (ipykernel)",
   "language": "python",
   "name": "python3"
  },
  "language_info": {
   "codemirror_mode": {
    "name": "ipython",
    "version": 3
   },
   "file_extension": ".py",
   "mimetype": "text/x-python",
   "name": "python",
   "nbconvert_exporter": "python",
   "pygments_lexer": "ipython3",
   "version": "3.11.5"
  }
 },
 "nbformat": 4,
 "nbformat_minor": 5
}
